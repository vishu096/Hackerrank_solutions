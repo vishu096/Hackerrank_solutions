{
 "cells": [
  {
   "cell_type": "markdown",
   "metadata": {},
   "source": [
    "Detecting float point number"
   ]
  },
  {
   "cell_type": "code",
   "execution_count": 7,
   "metadata": {},
   "outputs": [
    {
     "name": "stdout",
     "output_type": "stream",
     "text": [
      "2\n",
      "-1.23\n",
      "+2.46\n",
      "['-1.23', '+2.46']\n",
      "True\n",
      "True\n"
     ]
    }
   ],
   "source": [
    "import re\n",
    "num=int(input())\n",
    "l=[]\n",
    "for i in range(0,num):\n",
    "    n=input(\"\")\n",
    "    l.append(n)\n",
    "print(l)\n",
    "for j in l:\n",
    "    x=re.findall(\"^[+|-]?[0-9]*\\.\\d+$\",j)\n",
    "    if x:\n",
    "        print(\"True\")\n",
    "    else:\n",
    "        print(\"False\")\n",
    " "
   ]
  },
  {
   "cell_type": "markdown",
   "metadata": {},
   "source": [
    "Most repeating number"
   ]
  },
  {
   "cell_type": "code",
   "execution_count": 10,
   "metadata": {},
   "outputs": [
    {
     "name": "stdout",
     "output_type": "stream",
     "text": [
      ".12345555678\n",
      "5\n"
     ]
    }
   ],
   "source": [
    "import re\n",
    "exp= r\"([.0-9]|[a-zA-Z0-9])\\1+\"\n",
    "m=re.search(exp,input())\n",
    "if m:\n",
    "    print(m.group(1))\n",
    "else:\n",
    "    print(-1)"
   ]
  },
  {
   "cell_type": "markdown",
   "metadata": {},
   "source": [
    "splitting numbers "
   ]
  },
  {
   "cell_type": "code",
   "execution_count": 9,
   "metadata": {},
   "outputs": [
    {
     "name": "stdout",
     "output_type": "stream",
     "text": [
      "100,100.000,456\n",
      "100\n",
      "100\n",
      "000\n",
      "456\n"
     ]
    }
   ],
   "source": [
    "regex_pattern = r\"[,|.]\"\t# Do not delete 'r'.\n",
    "\n",
    "\n",
    "import re\n",
    "print(\"\\n\".join(re.split(regex_pattern, input())))"
   ]
  },
  {
   "cell_type": "markdown",
   "metadata": {},
   "source": [
    "Validating roman numerals"
   ]
  },
  {
   "cell_type": "code",
   "execution_count": 3,
   "metadata": {},
   "outputs": [
    {
     "name": "stdout",
     "output_type": "stream",
     "text": [
      "CDXXI\n",
      "False\n"
     ]
    }
   ],
   "source": [
    "import re\n",
    "num=input()\n",
    "thou='M{0,3}'\n",
    "hun='(C[MD]|D?C{0,3})'\n",
    "ten='(X[CL]|L?X{0,3})'\n",
    "ones='(I[VX]|V?I{0,3})'\n",
    "number=f\"{0}{1}{2}{3}\".format(thou,hun,ten,ones)\n",
    "print(bool(re.match(number,num)))"
   ]
  },
  {
   "cell_type": "markdown",
   "metadata": {},
   "source": [
    "Validating and parsing phone number"
   ]
  },
  {
   "cell_type": "code",
   "execution_count": 34,
   "metadata": {},
   "outputs": [
    {
     "name": "stdout",
     "output_type": "stream",
     "text": [
      "1\n",
      "989er78912\n",
      "no\n"
     ]
    }
   ],
   "source": [
    "import re\n",
    "k=int(input())\n",
    "for i in range(k):\n",
    "    num = (input())\n",
    "    if len(num)==10:\n",
    "        result = re.findall(r\"^[789]\\d{9}$\",num)\n",
    "if result:\n",
    "    print(\"yes\")\n",
    "else:\n",
    "    print(\"no\")"
   ]
  },
  {
   "cell_type": "markdown",
   "metadata": {},
   "source": [
    "findall , finditer solution"
   ]
  },
  {
   "cell_type": "code",
   "execution_count": 39,
   "metadata": {},
   "outputs": [
    {
     "name": "stdout",
     "output_type": "stream",
     "text": [
      "rabcdeefgyYhFjkIoomnpOeorteeeeet\n",
      "ee\n",
      "eeeee\n"
     ]
    }
   ],
   "source": [
    "import re\n",
    "s = re.findall(r\"(?<=[qwrtypsdfghjklzxcvbnm])([aeiou]{2,})(?=[qwrtypsdfghjklzxcvbnm])\",input().strip())\n",
    "if s :\n",
    "    for i in s:\n",
    "        print(i)\n",
    "        \n",
    "else:\n",
    "    print(-1)         "
   ]
  },
  {
   "cell_type": "code",
   "execution_count": null,
   "metadata": {},
   "outputs": [],
   "source": []
  }
 ],
 "metadata": {
  "kernelspec": {
   "display_name": "Python 3",
   "language": "python",
   "name": "python3"
  },
  "language_info": {
   "codemirror_mode": {
    "name": "ipython",
    "version": 3
   },
   "file_extension": ".py",
   "mimetype": "text/x-python",
   "name": "python",
   "nbconvert_exporter": "python",
   "pygments_lexer": "ipython3",
   "version": "3.8.3"
  }
 },
 "nbformat": 4,
 "nbformat_minor": 4
}
